{
 "cells": [
  {
   "cell_type": "code",
   "execution_count": null,
   "metadata": {},
   "outputs": [],
   "source": [
    "import os\n",
    "import sys\n",
    "from pathlib import Path\n",
    "# Setting the working directory to the root of the project\n",
    "project_dir = Path(\"C:/Users/adbou/source/repos/KFHXRelatedAi/\")\n",
    "os.chdir(project_dir)\n",
    "\n",
    "from Configs.GeneralPaths import SOURCEDATA\n",
    "import pandas as pd\n",
    "import numpy as np"
   ]
  },
  {
   "cell_type": "code",
   "execution_count": null,
   "metadata": {},
   "outputs": [],
   "source": [
    "#load user transactions data\n",
    "user_transactions = pd.read_excel(Path(SOURCEDATA / \"Transaction_User.xlsx\"))\n",
    "new_user_tranaction = user_transactions.drop(columns=['TrxId'])\n",
    "new_user_tranaction.head()\n",
    "new_user_tranaction.info()"
   ]
  },
  {
   "cell_type": "code",
   "execution_count": null,
   "metadata": {},
   "outputs": [],
   "source": [
    "#load deals data\n",
    "deals_data = pd.read_excel(Path(SOURCEDATA / \"Cleaned_Deals.xlsx\"))\n",
    "deals_data = deals_data.drop(columns=['Unnamed: 0'])\n",
    "deals_data.head()\n",
    "deals_data.info()"
   ]
  },
  {
   "cell_type": "code",
   "execution_count": null,
   "metadata": {},
   "outputs": [],
   "source": [
    "#merging deals data with user transaction data :\n",
    "new_user_tranaction = new_user_tranaction.merge(deals_data[['ContentId', 'Categories']], left_on='FK_ContentId', right_on='ContentId', how='left')\n",
    "new_user_tranaction = new_user_tranaction.drop(columns=['ContentId'])\n",
    "new_user_tranaction"
   ]
  },
  {
   "cell_type": "code",
   "execution_count": null,
   "metadata": {},
   "outputs": [],
   "source": [
    "# Count the number of interactions per user\n",
    "user_interaction_counts = new_user_tranaction['FK_BusinessUserId'].value_counts()\n",
    "\n",
    "# Summary statistics\n",
    "print(user_interaction_counts.describe())\n",
    "\n",
    "# Plot the distribution\n",
    "import matplotlib.pyplot as plt\n",
    "\n",
    "plt.figure(figsize=(5, 5))\n",
    "plt.hist(user_interaction_counts, bins=50, edgecolor='k')\n",
    "plt.xlabel('Number of Interactions per User')\n",
    "plt.ylabel('Count of Users')\n",
    "plt.title('Distribution of Interactions per User')\n",
    "plt.show()"
   ]
  },
  {
   "cell_type": "code",
   "execution_count": null,
   "metadata": {},
   "outputs": [],
   "source": [
    "user_redemption_counts = new_user_tranaction['FK_BusinessUserId'].value_counts()\n",
    "user_redemption_counts\n",
    "#1012893"
   ]
  },
  {
   "cell_type": "code",
   "execution_count": null,
   "metadata": {},
   "outputs": [],
   "source": [
    "users_with_3_plus_redemptions = user_redemption_counts[user_redemption_counts >= 3].index\n",
    "filtered_user_transactions = new_user_tranaction[new_user_tranaction['FK_BusinessUserId'].isin(users_with_3_plus_redemptions)]\n",
    "filtered_user_transactions"
   ]
  },
  {
   "cell_type": "code",
   "execution_count": null,
   "metadata": {},
   "outputs": [],
   "source": [
    "user_item_matrix = pd.pivot_table(\n",
    "    new_user_tranaction,\n",
    "    index='FK_BusinessUserId',\n",
    "    columns='FK_ContentId',\n",
    "    values='PointsRedeemed',\n",
    "    fill_value=0,\n",
    "    aggfunc='mean'  \n",
    ").fillna(0)"
   ]
  },
  {
   "cell_type": "code",
   "execution_count": null,
   "metadata": {},
   "outputs": [],
   "source": [
    "user_item_matrix"
   ]
  },
  {
   "cell_type": "code",
   "execution_count": null,
   "metadata": {},
   "outputs": [],
   "source": [
    "# Descriptive statistics\n",
    "print(new_user_tranaction.describe())\n",
    "\n",
    "# Checking for missing values\n",
    "print(new_user_tranaction.isnull().sum())\n",
    "\n",
    "# Checking the unique values\n",
    "print(new_user_tranaction.nunique())\n"
   ]
  },
  {
   "cell_type": "code",
   "execution_count": null,
   "metadata": {},
   "outputs": [],
   "source": [
    "import matplotlib.pyplot as plt\n",
    "import seaborn as sns\n",
    "\n",
    "# Visualizing the distribution of PointsRedeemed\n",
    "sns.histplot(new_user_tranaction['PointsRedeemed'], bins=50, kde=True)\n",
    "plt.title('Distribution of PointsRedeemed')\n",
    "plt.show()\n",
    "\n",
    "# Visualizing the distribution of redemptions per user\n",
    "user_redemptions = new_user_tranaction.groupby('FK_BusinessUserId').size()\n",
    "sns.histplot(user_redemptions, bins=50, kde=True)\n",
    "plt.title('Distribution of Redemptions per User')\n",
    "plt.show()\n",
    "\n",
    "# Visualizing the distribution of redemptions per item\n",
    "item_redemptions = new_user_tranaction.groupby('FK_ContentId').size()\n",
    "sns.histplot(item_redemptions, bins=50, kde=True)\n",
    "plt.title('Distribution of Redemptions per Item')\n",
    "plt.show()\n"
   ]
  },
  {
   "cell_type": "code",
   "execution_count": null,
   "metadata": {},
   "outputs": [],
   "source": [
    "# Create the user-item matrix\n",
    "user_item_matrix = new_user_tranaction.pivot_table(index='FK_BusinessUserId', columns='FK_ContentId', values='PointsRedeemed', fill_value=0)\n",
    "\n",
    "# Calculate sparsity\n",
    "sparsity = 1.0 - (np.count_nonzero(user_item_matrix) / float(user_item_matrix.size))\n",
    "print(f\"Sparsity of the user-item matrix: {sparsity:.4f}\")\n"
   ]
  },
  {
   "cell_type": "code",
   "execution_count": null,
   "metadata": {},
   "outputs": [],
   "source": [
    "# Category distribution\n",
    "category_counts = new_user_tranaction['Categories'].value_counts()\n",
    "sns.barplot(x=category_counts.index, y=category_counts.values)\n",
    "plt.title('Category Distribution')\n",
    "plt.xticks(rotation=90)\n",
    "plt.show()\n"
   ]
  },
  {
   "cell_type": "code",
   "execution_count": null,
   "metadata": {},
   "outputs": [],
   "source": [
    "from sklearn.decomposition import PCA\n",
    "\n",
    "# Fill missing values with 0\n",
    "user_item_matrix_filled = user_item_matrix.fillna(0)\n",
    "\n",
    "# Apply PCA\n",
    "pca = PCA(n_components=2)\n",
    "user_item_pca = pca.fit_transform(user_item_matrix_filled)\n",
    "\n",
    "# Plot PCA\n",
    "plt.scatter(user_item_pca[:, 0], user_item_pca[:, 1], alpha=0.5)\n",
    "plt.title('PCA of User-Item Matrix')\n",
    "plt.xlabel('Principal Component 1')\n",
    "plt.ylabel('Principal Component 2')\n",
    "plt.show()\n"
   ]
  },
  {
   "cell_type": "code",
   "execution_count": null,
   "metadata": {},
   "outputs": [],
   "source": [
    "# Getting the most redeemed FK_ContentId\n",
    "most_redeemed_content = new_user_tranaction['FK_ContentId'].value_counts().idxmax()\n",
    "most_redeemed_count = new_user_tranaction['FK_ContentId'].value_counts().max()\n",
    "\n",
    "print(f\"The most redeemed FK_ContentId is {most_redeemed_content} with {most_redeemed_count} redemptions.\")\n"
   ]
  },
  {
   "cell_type": "code",
   "execution_count": null,
   "metadata": {},
   "outputs": [],
   "source": [
    "# Getting the top 10 users with the most redemptions\n",
    "top_n = 30 \n",
    "top_redemptions_users = new_user_tranaction['FK_BusinessUserId'].value_counts().head(top_n)\n",
    "\n",
    "print(f\"The top {top_n} users with the most redemptions are:\\n{top_redemptions_users}\")\n"
   ]
  },
  {
   "cell_type": "code",
   "execution_count": null,
   "metadata": {},
   "outputs": [],
   "source": [
    "\n",
    "content_id_to_check = 115099\n",
    "filtered_content_data = new_user_tranaction[new_user_tranaction['FK_ContentId'] == content_id_to_check]\n",
    "user_redemptions = filtered_content_data.groupby('FK_BusinessUserId').size()\n",
    "users_with_more_than_5_redemptions = user_redemptions[user_redemptions > 5]\n",
    "\n",
    "print(users_with_more_than_5_redemptions)\n"
   ]
  }
 ],
 "metadata": {
  "kernelspec": {
   "display_name": "Python 3",
   "language": "python",
   "name": "python3"
  },
  "language_info": {
   "codemirror_mode": {
    "name": "ipython",
    "version": 3
   },
   "file_extension": ".py",
   "mimetype": "text/x-python",
   "name": "python",
   "nbconvert_exporter": "python",
   "pygments_lexer": "ipython3",
   "version": "3.12.4"
  }
 },
 "nbformat": 4,
 "nbformat_minor": 2
}
