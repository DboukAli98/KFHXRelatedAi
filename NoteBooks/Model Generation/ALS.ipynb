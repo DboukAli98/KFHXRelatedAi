{
 "cells": [
  {
   "cell_type": "code",
   "execution_count": null,
   "metadata": {},
   "outputs": [],
   "source": [
    "import os\n",
    "import sys\n",
    "from pathlib import Path\n",
    "import pandas as pd\n",
    "import numpy as np\n",
    "import ast\n",
    "from sklearn.decomposition import TruncatedSVD\n",
    "from sklearn.metrics.pairwise import cosine_similarity\n",
    "from sklearn.preprocessing import OneHotEncoder,StandardScaler\n",
    "from sklearn.neighbors import NearestNeighbors\n",
    "from scipy.sparse import csr_matrix, hstack\n",
    "\n",
    "project_dir = Path(\"C:/Users/adbou/source/repos/KFHXRelatedAi/\")\n",
    "os.chdir(project_dir)\n",
    "\n",
    "from Configs.GeneralPaths import SOURCEDATA"
   ]
  },
  {
   "cell_type": "code",
   "execution_count": null,
   "metadata": {},
   "outputs": [],
   "source": [
    "user_transactions = pd.read_excel(Path(SOURCEDATA / \"Transaction_User.xlsx\"))\n",
    "new_user_transaction = user_transactions.drop(columns=['TrxId'])\n",
    "\n",
    "deals_data = pd.read_excel(Path(SOURCEDATA / \"Cleaned_Deals.xlsx\"))\n",
    "deals_data = deals_data.drop(columns=['Unnamed: 0'])\n",
    "\n",
    "deals_embeddings = pd.read_csv(Path(SOURCEDATA / \"Deals_Embeddings.csv\"))\n",
    "deals_embeddings['ada_embedding'] = deals_embeddings['ada_embedding'].apply(ast.literal_eval)\n",
    "\n",
    "new_user_transaction = new_user_transaction.merge(deals_data[['ContentId', 'Categories','Deal Type']], left_on='FK_ContentId', right_on='ContentId', how='left')\n",
    "new_user_transaction = new_user_transaction.drop(columns=['ContentId'])\n",
    "new_user_transaction"
   ]
  },
  {
   "cell_type": "code",
   "execution_count": null,
   "metadata": {},
   "outputs": [],
   "source": [
    "new_user_transaction['LogPointsRedeemed'] = np.log1p(new_user_transaction['PointsRedeemed'])\n"
   ]
  },
  {
   "cell_type": "code",
   "execution_count": null,
   "metadata": {},
   "outputs": [],
   "source": [
    "user_item_matrix = new_user_transaction.pivot_table(index='FK_BusinessUserId', columns='FK_ContentId', values='LogPointsRedeemed',fill_value=0)\n"
   ]
  },
  {
   "cell_type": "code",
   "execution_count": null,
   "metadata": {},
   "outputs": [],
   "source": [
    "frequency_user_item_matrix = new_user_transaction.pivot_table(\n",
    "    index='FK_BusinessUserId', \n",
    "    columns='FK_ContentId', \n",
    "    values='PointsRedeemed', \n",
    "    aggfunc='count', \n",
    "    fill_value=0\n",
    ")"
   ]
  },
  {
   "cell_type": "code",
   "execution_count": null,
   "metadata": {},
   "outputs": [],
   "source": [
    "from sklearn.preprocessing import MinMaxScaler\n",
    "\n",
    "scaler = MinMaxScaler()\n",
    "normalized_points_matrix = scaler.fit_transform(user_item_matrix)\n",
    "normalized_frequency_matrix = scaler.fit_transform(frequency_user_item_matrix)\n"
   ]
  },
  {
   "cell_type": "code",
   "execution_count": null,
   "metadata": {},
   "outputs": [],
   "source": [
    "user_item_matrix"
   ]
  },
  {
   "cell_type": "code",
   "execution_count": null,
   "metadata": {},
   "outputs": [],
   "source": [
    "combined_matrix = 0.5 * normalized_points_matrix + 0.5 * normalized_frequency_matrix\n"
   ]
  },
  {
   "cell_type": "code",
   "execution_count": null,
   "metadata": {},
   "outputs": [],
   "source": [
    "# scaler = StandardScaler()\n",
    "# new_user_transaction['PointsRedeemed'] = scaler.fit_transform(new_user_transaction[['PointsRedeemed']])"
   ]
  },
  {
   "cell_type": "code",
   "execution_count": null,
   "metadata": {},
   "outputs": [],
   "source": [
    "sparse_user_item = csr_matrix(combined_matrix)\n"
   ]
  },
  {
   "cell_type": "code",
   "execution_count": null,
   "metadata": {},
   "outputs": [],
   "source": [
    "from implicit.als import AlternatingLeastSquares\n",
    "\n",
    "model = AlternatingLeastSquares(factors=14, regularization=0.2, iterations=20)"
   ]
  },
  {
   "cell_type": "code",
   "execution_count": null,
   "metadata": {},
   "outputs": [],
   "source": [
    "alpha_val = 40\n",
    "data_conf = (sparse_user_item * alpha_val).astype('double')\n",
    "model.fit(data_conf)"
   ]
  },
  {
   "cell_type": "code",
   "execution_count": null,
   "metadata": {},
   "outputs": [],
   "source": [
    "def recommend_items(user_id, user_item_matrix, model, n_recommendations=20):\n",
    "    user_index = list(user_item_matrix.index).index(user_id)\n",
    "    user_interactions = sparse_user_item[user_index]\n",
    "    print(f\"User Interactions for user {user_id}: {user_interactions}\")\n",
    "    recommendations = model.recommend(user_index, user_interactions, N=n_recommendations)\n",
    "    recommended_item_indices, recommended_scores = recommendations\n",
    "    recommended_item_ids = [user_item_matrix.columns[item_id] for item_id in recommended_item_indices]\n",
    "    \n",
    "    return recommended_item_ids, recommended_scores"
   ]
  },
  {
   "cell_type": "code",
   "execution_count": null,
   "metadata": {},
   "outputs": [],
   "source": [
    "user_id = 976485\n",
    "recommended_items = recommend_items(user_id, user_item_matrix, model)\n",
    "print(f\"Recommended items for user {user_id}: {recommended_items[0]}\")\n",
    "print(f\"Scores items for user {user_id}: {recommended_items[1]}\")"
   ]
  },
  {
   "cell_type": "code",
   "execution_count": null,
   "metadata": {},
   "outputs": [],
   "source": [
    "def calculate_cosine_similarity(embedding, embeddings):\n",
    "    similarities = cosine_similarity([embedding], embeddings)\n",
    "    return similarities[0]"
   ]
  },
  {
   "cell_type": "code",
   "execution_count": null,
   "metadata": {},
   "outputs": [],
   "source": [
    "def rerank_recommendations(user_id, recommended_item_ids, recommended_scores, deals_embeddings, user_item_matrix):\n",
    "    \n",
    "    recommended_embeddings = np.array([deals_embeddings[deals_embeddings['ContentId'] == item]['ada_embedding'].values[0] for item in recommended_item_ids])\n",
    "    \n",
    "    \n",
    "    user_interacted_items = user_item_matrix.loc[user_id]\n",
    "    user_interacted_items = user_interacted_items[user_interacted_items > 0].index.tolist()\n",
    "    user_interacted_embeddings = np.array([deals_embeddings[deals_embeddings['ContentId'] == item]['ada_embedding'].values[0] for item in user_interacted_items])\n",
    "    \n",
    "    \n",
    "    user_profile_embedding = np.mean(user_interacted_embeddings, axis=0)\n",
    "    print(f\"user_profile_embedding for user {user_id}: {user_profile_embedding}\")\n",
    "    \n",
    "    cosine_similarities = calculate_cosine_similarity(user_profile_embedding, recommended_embeddings)\n",
    "    \n",
    "    \n",
    "    combined_scores = recommended_scores + cosine_similarities\n",
    "    \n",
    "\n",
    "    reranked_indices = np.argsort(combined_scores)[::-1]\n",
    "    reranked_recommendations = [recommended_item_ids[i] for i in reranked_indices]\n",
    "    reranked_scores = [combined_scores[i] for i in reranked_indices]\n",
    "    \n",
    "    return reranked_recommendations, reranked_scores"
   ]
  },
  {
   "cell_type": "code",
   "execution_count": null,
   "metadata": {},
   "outputs": [],
   "source": [
    "reranked_items, reranked_scores = rerank_recommendations(user_id, recommended_items[0], recommended_items[1], deals_embeddings, user_item_matrix)\n",
    "print(f\"Recommended items for user {user_id}: {reranked_items}\")\n",
    "print(f\"Recommendation scores: {reranked_scores}\")"
   ]
  },
  {
   "cell_type": "code",
   "execution_count": null,
   "metadata": {},
   "outputs": [],
   "source": [
    "specific_content_id = 113834\n",
    "result = deals_data[deals_data['ContentId'] == specific_content_id]\n",
    "\n",
    "result"
   ]
  },
  {
   "cell_type": "code",
   "execution_count": null,
   "metadata": {},
   "outputs": [],
   "source": [
    "user_last_interactions = user_item_matrix.loc[user_id]\n",
    "user_interacted_items = user_last_interactions[user_last_interactions > 0].index\n",
    "user_deals = deals_data[deals_data['ContentId'].isin(user_interacted_items)]\n",
    "user_deals"
   ]
  },
  {
   "cell_type": "code",
   "execution_count": null,
   "metadata": {},
   "outputs": [],
   "source": [
    "user_trs = new_user_transaction[new_user_transaction[\"FK_BusinessUserId\"] == user_id]\n",
    "user_trs"
   ]
  },
  {
   "cell_type": "code",
   "execution_count": null,
   "metadata": {},
   "outputs": [],
   "source": [
    "115094"
   ]
  }
 ],
 "metadata": {
  "kernelspec": {
   "display_name": "Python 3",
   "language": "python",
   "name": "python3"
  },
  "language_info": {
   "codemirror_mode": {
    "name": "ipython",
    "version": 3
   },
   "file_extension": ".py",
   "mimetype": "text/x-python",
   "name": "python",
   "nbconvert_exporter": "python",
   "pygments_lexer": "ipython3",
   "version": "3.12.4"
  }
 },
 "nbformat": 4,
 "nbformat_minor": 2
}
