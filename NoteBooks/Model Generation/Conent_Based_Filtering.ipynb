{
 "cells": [
  {
   "cell_type": "code",
   "execution_count": 10,
   "metadata": {},
   "outputs": [],
   "source": [
    "import os\n",
    "import sys\n",
    "from pathlib import Path\n",
    "# Setting the working directory to the root of the project\n",
    "project_dir = Path(\"C:/Users/adbou/source/repos/KFHXRelatedAi/\")\n",
    "os.chdir(project_dir)\n",
    "\n",
    "from Configs.GeneralPaths import SOURCEDATA\n",
    "import pandas as pd\n",
    "import numpy as np\n",
    "import ast\n"
   ]
  },
  {
   "cell_type": "code",
   "execution_count": 11,
   "metadata": {},
   "outputs": [],
   "source": [
    "#load user transactions data\n",
    "deals_embeddings = pd.read_csv(Path(SOURCEDATA / \"Deals_Embeddings.csv\"))\n",
    "deals_embeddings['ada_embedding'] = deals_embeddings['ada_embedding'].apply(ast.literal_eval)\n",
    "\n"
   ]
  },
  {
   "cell_type": "code",
   "execution_count": 12,
   "metadata": {},
   "outputs": [
    {
     "data": {
      "text/html": [
       "<div>\n",
       "<style scoped>\n",
       "    .dataframe tbody tr th:only-of-type {\n",
       "        vertical-align: middle;\n",
       "    }\n",
       "\n",
       "    .dataframe tbody tr th {\n",
       "        vertical-align: top;\n",
       "    }\n",
       "\n",
       "    .dataframe thead th {\n",
       "        text-align: right;\n",
       "    }\n",
       "</style>\n",
       "<table border=\"1\" class=\"dataframe\">\n",
       "  <thead>\n",
       "    <tr style=\"text-align: right;\">\n",
       "      <th></th>\n",
       "      <th>ContentId</th>\n",
       "      <th>ada_embedding</th>\n",
       "    </tr>\n",
       "  </thead>\n",
       "  <tbody>\n",
       "    <tr>\n",
       "      <th>0</th>\n",
       "      <td>113815</td>\n",
       "      <td>[0.0036637482699006796, 0.0040904744528234005,...</td>\n",
       "    </tr>\n",
       "    <tr>\n",
       "      <th>1</th>\n",
       "      <td>113816</td>\n",
       "      <td>[0.006569046527147293, 0.006756171118468046, -...</td>\n",
       "    </tr>\n",
       "    <tr>\n",
       "      <th>2</th>\n",
       "      <td>113817</td>\n",
       "      <td>[0.004525594413280487, -0.03140182048082352, 0...</td>\n",
       "    </tr>\n",
       "    <tr>\n",
       "      <th>3</th>\n",
       "      <td>113818</td>\n",
       "      <td>[-0.003238065168261528, -0.08213862031698227, ...</td>\n",
       "    </tr>\n",
       "    <tr>\n",
       "      <th>4</th>\n",
       "      <td>113819</td>\n",
       "      <td>[-0.05140183866024017, -0.05169753357768059, 0...</td>\n",
       "    </tr>\n",
       "  </tbody>\n",
       "</table>\n",
       "</div>"
      ],
      "text/plain": [
       "   ContentId                                      ada_embedding\n",
       "0     113815  [0.0036637482699006796, 0.0040904744528234005,...\n",
       "1     113816  [0.006569046527147293, 0.006756171118468046, -...\n",
       "2     113817  [0.004525594413280487, -0.03140182048082352, 0...\n",
       "3     113818  [-0.003238065168261528, -0.08213862031698227, ...\n",
       "4     113819  [-0.05140183866024017, -0.05169753357768059, 0..."
      ]
     },
     "execution_count": 12,
     "metadata": {},
     "output_type": "execute_result"
    }
   ],
   "source": [
    "deals_embeddings.head()"
   ]
  },
  {
   "cell_type": "code",
   "execution_count": 13,
   "metadata": {},
   "outputs": [
    {
     "data": {
      "text/html": [
       "<div>\n",
       "<style scoped>\n",
       "    .dataframe tbody tr th:only-of-type {\n",
       "        vertical-align: middle;\n",
       "    }\n",
       "\n",
       "    .dataframe tbody tr th {\n",
       "        vertical-align: top;\n",
       "    }\n",
       "\n",
       "    .dataframe thead th {\n",
       "        text-align: right;\n",
       "    }\n",
       "</style>\n",
       "<table border=\"1\" class=\"dataframe\">\n",
       "  <thead>\n",
       "    <tr style=\"text-align: right;\">\n",
       "      <th></th>\n",
       "      <th>FK_BusinessUserId</th>\n",
       "      <th>PointsRedeemed</th>\n",
       "      <th>FK_ContentId</th>\n",
       "    </tr>\n",
       "  </thead>\n",
       "  <tbody>\n",
       "    <tr>\n",
       "      <th>0</th>\n",
       "      <td>976480</td>\n",
       "      <td>1000</td>\n",
       "      <td>113923</td>\n",
       "    </tr>\n",
       "    <tr>\n",
       "      <th>1</th>\n",
       "      <td>976480</td>\n",
       "      <td>10000</td>\n",
       "      <td>113853</td>\n",
       "    </tr>\n",
       "    <tr>\n",
       "      <th>2</th>\n",
       "      <td>976480</td>\n",
       "      <td>10000</td>\n",
       "      <td>113853</td>\n",
       "    </tr>\n",
       "    <tr>\n",
       "      <th>3</th>\n",
       "      <td>976921</td>\n",
       "      <td>10</td>\n",
       "      <td>113851</td>\n",
       "    </tr>\n",
       "    <tr>\n",
       "      <th>4</th>\n",
       "      <td>976480</td>\n",
       "      <td>50</td>\n",
       "      <td>113835</td>\n",
       "    </tr>\n",
       "  </tbody>\n",
       "</table>\n",
       "</div>"
      ],
      "text/plain": [
       "   FK_BusinessUserId  PointsRedeemed  FK_ContentId\n",
       "0             976480            1000        113923\n",
       "1             976480           10000        113853\n",
       "2             976480           10000        113853\n",
       "3             976921              10        113851\n",
       "4             976480              50        113835"
      ]
     },
     "execution_count": 13,
     "metadata": {},
     "output_type": "execute_result"
    }
   ],
   "source": [
    "#loading user transactions\n",
    "user_transactions = pd.read_excel(Path(SOURCEDATA / \"Transaction_User.xlsx\"))\n",
    "user_tranactions = user_transactions.drop(columns=['TrxId'])\n",
    "user_tranactions.head()"
   ]
  },
  {
   "cell_type": "code",
   "execution_count": 16,
   "metadata": {},
   "outputs": [],
   "source": [
    "from sklearn.metrics.pairwise import cosine_similarity\n",
    "\n",
    "def calculate_cosine_similarity(embedding, embeddings):\n",
    "    similarities = cosine_similarity([embedding], embeddings)\n",
    "    return similarities[0]\n"
   ]
  },
  {
   "cell_type": "code",
   "execution_count": 18,
   "metadata": {},
   "outputs": [],
   "source": [
    "def recommend_deals_for_user(user_id, user_deals_df, deals_embeddings_new):\n",
    "    # Get the user's redeemed deals' content IDs\n",
    "    redeemed_content_ids = user_deals_df[user_deals_df['FK_BusinessUserId'] == user_id]['FK_ContentId'].unique()\n",
    "    \n",
    "    # Retrieve the embeddings for the redeemed deals\n",
    "    redeemed_embeddings = deals_embeddings_new[deals_embeddings_new['ContentId'].isin(redeemed_content_ids)]\n",
    "    \n",
    "    if redeemed_embeddings.empty:\n",
    "        print(\"No redeemed deals found for this user.\")\n",
    "        return pd.DataFrame()\n",
    "    \n",
    "    # Get all embeddings\n",
    "    all_embeddings = deals_embeddings_new['ada_embedding'].tolist()\n",
    "\n",
    "    # Initialize an empty list to store similarities\n",
    "    similarities = []\n",
    "\n",
    "    # Calculate similarities for each redeemed embedding\n",
    "    for embedding in redeemed_embeddings['ada_embedding']:\n",
    "        similarity = calculate_cosine_similarity(embedding, all_embeddings)\n",
    "        similarities.append(similarity)\n",
    "\n",
    "    # Average the similarities to get a single similarity score for each deal\n",
    "    average_similarities = np.mean(similarities, axis=0)\n",
    "\n",
    "    # Add the similarities to the DataFrame\n",
    "    deals_embeddings_new['similarity'] = average_similarities\n",
    "\n",
    "    # Filter out deals the user has already redeemed\n",
    "    recommended_deals = deals_embeddings_new[~deals_embeddings_new['ContentId'].isin(redeemed_content_ids)]\n",
    "\n",
    "    # Sort by similarity in descending order and take the top 5 recommendations\n",
    "    top_5_recommendations = recommended_deals.sort_values(by='similarity', ascending=False).head(5)\n",
    "\n",
    "    return top_5_recommendations\n",
    "\n",
    "\n"
   ]
  },
  {
   "cell_type": "code",
   "execution_count": 25,
   "metadata": {},
   "outputs": [],
   "source": [
    "user_id = 985749\n",
    "\n",
    "# Get recommendations for the user\n",
    "top_5_recommendations = recommend_deals_for_user(user_id, user_tranactions, deals_embeddings)"
   ]
  },
  {
   "cell_type": "code",
   "execution_count": 26,
   "metadata": {},
   "outputs": [
    {
     "data": {
      "text/html": [
       "<div>\n",
       "<style scoped>\n",
       "    .dataframe tbody tr th:only-of-type {\n",
       "        vertical-align: middle;\n",
       "    }\n",
       "\n",
       "    .dataframe tbody tr th {\n",
       "        vertical-align: top;\n",
       "    }\n",
       "\n",
       "    .dataframe thead th {\n",
       "        text-align: right;\n",
       "    }\n",
       "</style>\n",
       "<table border=\"1\" class=\"dataframe\">\n",
       "  <thead>\n",
       "    <tr style=\"text-align: right;\">\n",
       "      <th></th>\n",
       "      <th>ContentId</th>\n",
       "      <th>ada_embedding</th>\n",
       "      <th>similarity</th>\n",
       "    </tr>\n",
       "  </thead>\n",
       "  <tbody>\n",
       "    <tr>\n",
       "      <th>4</th>\n",
       "      <td>113819</td>\n",
       "      <td>[-0.05140183866024017, -0.05169753357768059, 0...</td>\n",
       "      <td>0.695060</td>\n",
       "    </tr>\n",
       "    <tr>\n",
       "      <th>48</th>\n",
       "      <td>113863</td>\n",
       "      <td>[-0.03503214195370674, -0.030069053173065186, ...</td>\n",
       "      <td>0.678203</td>\n",
       "    </tr>\n",
       "    <tr>\n",
       "      <th>101</th>\n",
       "      <td>113916</td>\n",
       "      <td>[-0.0008215493289753795, -0.01800406165421009,...</td>\n",
       "      <td>0.626454</td>\n",
       "    </tr>\n",
       "    <tr>\n",
       "      <th>149</th>\n",
       "      <td>115104</td>\n",
       "      <td>[-0.021717684343457222, -0.04306768625974655, ...</td>\n",
       "      <td>0.608945</td>\n",
       "    </tr>\n",
       "    <tr>\n",
       "      <th>198</th>\n",
       "      <td>115244</td>\n",
       "      <td>[0.007270508445799351, -0.017816953361034393, ...</td>\n",
       "      <td>0.606802</td>\n",
       "    </tr>\n",
       "  </tbody>\n",
       "</table>\n",
       "</div>"
      ],
      "text/plain": [
       "     ContentId                                      ada_embedding  similarity\n",
       "4       113819  [-0.05140183866024017, -0.05169753357768059, 0...    0.695060\n",
       "48      113863  [-0.03503214195370674, -0.030069053173065186, ...    0.678203\n",
       "101     113916  [-0.0008215493289753795, -0.01800406165421009,...    0.626454\n",
       "149     115104  [-0.021717684343457222, -0.04306768625974655, ...    0.608945\n",
       "198     115244  [0.007270508445799351, -0.017816953361034393, ...    0.606802"
      ]
     },
     "execution_count": 26,
     "metadata": {},
     "output_type": "execute_result"
    }
   ],
   "source": [
    "top_5_recommendations"
   ]
  },
  {
   "cell_type": "code",
   "execution_count": 27,
   "metadata": {},
   "outputs": [
    {
     "data": {
      "text/html": [
       "<div>\n",
       "<style scoped>\n",
       "    .dataframe tbody tr th:only-of-type {\n",
       "        vertical-align: middle;\n",
       "    }\n",
       "\n",
       "    .dataframe tbody tr th {\n",
       "        vertical-align: top;\n",
       "    }\n",
       "\n",
       "    .dataframe thead th {\n",
       "        text-align: right;\n",
       "    }\n",
       "</style>\n",
       "<table border=\"1\" class=\"dataframe\">\n",
       "  <thead>\n",
       "    <tr style=\"text-align: right;\">\n",
       "      <th></th>\n",
       "      <th>FK_BusinessUserId</th>\n",
       "      <th>PointsRedeemed</th>\n",
       "      <th>FK_ContentId</th>\n",
       "    </tr>\n",
       "  </thead>\n",
       "  <tbody>\n",
       "    <tr>\n",
       "      <th>12596</th>\n",
       "      <td>985749</td>\n",
       "      <td>10</td>\n",
       "      <td>113851</td>\n",
       "    </tr>\n",
       "    <tr>\n",
       "      <th>12610</th>\n",
       "      <td>985749</td>\n",
       "      <td>5000</td>\n",
       "      <td>113864</td>\n",
       "    </tr>\n",
       "  </tbody>\n",
       "</table>\n",
       "</div>"
      ],
      "text/plain": [
       "       FK_BusinessUserId  PointsRedeemed  FK_ContentId\n",
       "12596             985749              10        113851\n",
       "12610             985749            5000        113864"
      ]
     },
     "execution_count": 27,
     "metadata": {},
     "output_type": "execute_result"
    }
   ],
   "source": [
    "user_trx = user_tranactions[user_tranactions['FK_BusinessUserId'] == 985749]\n",
    "user_trx"
   ]
  }
 ],
 "metadata": {
  "kernelspec": {
   "display_name": "Python 3",
   "language": "python",
   "name": "python3"
  },
  "language_info": {
   "codemirror_mode": {
    "name": "ipython",
    "version": 3
   },
   "file_extension": ".py",
   "mimetype": "text/x-python",
   "name": "python",
   "nbconvert_exporter": "python",
   "pygments_lexer": "ipython3",
   "version": "3.12.4"
  }
 },
 "nbformat": 4,
 "nbformat_minor": 2
}
