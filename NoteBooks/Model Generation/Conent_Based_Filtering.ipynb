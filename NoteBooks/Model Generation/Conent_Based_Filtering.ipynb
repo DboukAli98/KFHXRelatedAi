{
 "cells": [
  {
   "cell_type": "code",
   "execution_count": 1,
   "metadata": {},
   "outputs": [],
   "source": [
    "import os\n",
    "import sys\n",
    "from pathlib import Path\n",
    "# Setting the working directory to the root of the project\n",
    "project_dir = Path(\"C:/Users/adbou/source/repos/KFHXRelatedAi/\")\n",
    "os.chdir(project_dir)\n",
    "\n",
    "from Configs.GeneralPaths import SOURCEDATA\n",
    "import pandas as pd\n",
    "import numpy as np\n",
    "import ast\n"
   ]
  },
  {
   "cell_type": "code",
   "execution_count": 2,
   "metadata": {},
   "outputs": [],
   "source": [
    "#load user transactions data\n",
    "deals_embeddings = pd.read_csv(Path(SOURCEDATA / \"Deals_Embeddings.csv\"))\n",
    "deals_embeddings['ada_embedding'] = deals_embeddings['ada_embedding'].apply(ast.literal_eval)\n",
    "\n"
   ]
  },
  {
   "cell_type": "code",
   "execution_count": 3,
   "metadata": {},
   "outputs": [
    {
     "data": {
      "text/html": [
       "<div>\n",
       "<style scoped>\n",
       "    .dataframe tbody tr th:only-of-type {\n",
       "        vertical-align: middle;\n",
       "    }\n",
       "\n",
       "    .dataframe tbody tr th {\n",
       "        vertical-align: top;\n",
       "    }\n",
       "\n",
       "    .dataframe thead th {\n",
       "        text-align: right;\n",
       "    }\n",
       "</style>\n",
       "<table border=\"1\" class=\"dataframe\">\n",
       "  <thead>\n",
       "    <tr style=\"text-align: right;\">\n",
       "      <th></th>\n",
       "      <th>ContentId</th>\n",
       "      <th>ada_embedding</th>\n",
       "    </tr>\n",
       "  </thead>\n",
       "  <tbody>\n",
       "    <tr>\n",
       "      <th>0</th>\n",
       "      <td>113815</td>\n",
       "      <td>[-0.011087758466601372, 0.0018902471056208014,...</td>\n",
       "    </tr>\n",
       "    <tr>\n",
       "      <th>1</th>\n",
       "      <td>113816</td>\n",
       "      <td>[0.004196121357381344, -0.002094566822052002, ...</td>\n",
       "    </tr>\n",
       "    <tr>\n",
       "      <th>2</th>\n",
       "      <td>113817</td>\n",
       "      <td>[0.014210664667189121, -0.0441732220351696, 0....</td>\n",
       "    </tr>\n",
       "    <tr>\n",
       "      <th>3</th>\n",
       "      <td>113818</td>\n",
       "      <td>[0.007513060234487057, -0.0762559100985527, 0....</td>\n",
       "    </tr>\n",
       "    <tr>\n",
       "      <th>4</th>\n",
       "      <td>113819</td>\n",
       "      <td>[-0.03791334852576256, -0.046166758984327316, ...</td>\n",
       "    </tr>\n",
       "  </tbody>\n",
       "</table>\n",
       "</div>"
      ],
      "text/plain": [
       "   ContentId                                      ada_embedding\n",
       "0     113815  [-0.011087758466601372, 0.0018902471056208014,...\n",
       "1     113816  [0.004196121357381344, -0.002094566822052002, ...\n",
       "2     113817  [0.014210664667189121, -0.0441732220351696, 0....\n",
       "3     113818  [0.007513060234487057, -0.0762559100985527, 0....\n",
       "4     113819  [-0.03791334852576256, -0.046166758984327316, ..."
      ]
     },
     "execution_count": 3,
     "metadata": {},
     "output_type": "execute_result"
    }
   ],
   "source": [
    "deals_embeddings.head()"
   ]
  },
  {
   "cell_type": "code",
   "execution_count": 4,
   "metadata": {},
   "outputs": [
    {
     "data": {
      "text/html": [
       "<div>\n",
       "<style scoped>\n",
       "    .dataframe tbody tr th:only-of-type {\n",
       "        vertical-align: middle;\n",
       "    }\n",
       "\n",
       "    .dataframe tbody tr th {\n",
       "        vertical-align: top;\n",
       "    }\n",
       "\n",
       "    .dataframe thead th {\n",
       "        text-align: right;\n",
       "    }\n",
       "</style>\n",
       "<table border=\"1\" class=\"dataframe\">\n",
       "  <thead>\n",
       "    <tr style=\"text-align: right;\">\n",
       "      <th></th>\n",
       "      <th>FK_BusinessUserId</th>\n",
       "      <th>PointsRedeemed</th>\n",
       "      <th>FK_ContentId</th>\n",
       "    </tr>\n",
       "  </thead>\n",
       "  <tbody>\n",
       "    <tr>\n",
       "      <th>0</th>\n",
       "      <td>976480</td>\n",
       "      <td>1000</td>\n",
       "      <td>113923</td>\n",
       "    </tr>\n",
       "    <tr>\n",
       "      <th>1</th>\n",
       "      <td>976480</td>\n",
       "      <td>10000</td>\n",
       "      <td>113853</td>\n",
       "    </tr>\n",
       "    <tr>\n",
       "      <th>2</th>\n",
       "      <td>976480</td>\n",
       "      <td>10000</td>\n",
       "      <td>113853</td>\n",
       "    </tr>\n",
       "    <tr>\n",
       "      <th>3</th>\n",
       "      <td>976921</td>\n",
       "      <td>10</td>\n",
       "      <td>113851</td>\n",
       "    </tr>\n",
       "    <tr>\n",
       "      <th>4</th>\n",
       "      <td>976480</td>\n",
       "      <td>50</td>\n",
       "      <td>113835</td>\n",
       "    </tr>\n",
       "  </tbody>\n",
       "</table>\n",
       "</div>"
      ],
      "text/plain": [
       "   FK_BusinessUserId  PointsRedeemed  FK_ContentId\n",
       "0             976480            1000        113923\n",
       "1             976480           10000        113853\n",
       "2             976480           10000        113853\n",
       "3             976921              10        113851\n",
       "4             976480              50        113835"
      ]
     },
     "execution_count": 4,
     "metadata": {},
     "output_type": "execute_result"
    }
   ],
   "source": [
    "#loading user transactions\n",
    "user_transactions = pd.read_excel(Path(SOURCEDATA / \"Transaction_User.xlsx\"))\n",
    "user_tranactions = user_transactions.drop(columns=['TrxId'])\n",
    "user_tranactions.head()"
   ]
  },
  {
   "cell_type": "code",
   "execution_count": 5,
   "metadata": {},
   "outputs": [],
   "source": [
    "from sklearn.metrics.pairwise import cosine_similarity\n",
    "\n",
    "def calculate_cosine_similarity(embedding, embeddings):\n",
    "    similarities = cosine_similarity([embedding], embeddings)\n",
    "    return similarities[0]\n"
   ]
  },
  {
   "cell_type": "code",
   "execution_count": 6,
   "metadata": {},
   "outputs": [],
   "source": [
    "def recommend_deals_for_user(user_id, user_deals_df, deals_embeddings_new):\n",
    "    # Get the user's redeemed deals' content IDs\n",
    "    redeemed_content_ids = user_deals_df[user_deals_df['FK_BusinessUserId'] == user_id]['FK_ContentId'].unique()\n",
    "    \n",
    "    # Retrieve the embeddings for the redeemed deals\n",
    "    redeemed_embeddings = deals_embeddings_new[deals_embeddings_new['ContentId'].isin(redeemed_content_ids)]\n",
    "    \n",
    "    if redeemed_embeddings.empty:\n",
    "        print(\"No redeemed deals found for this user.\")\n",
    "        return pd.DataFrame()\n",
    "    \n",
    "    # Get all embeddings\n",
    "    all_embeddings = deals_embeddings_new['ada_embedding'].tolist()\n",
    "\n",
    "    # Initialize an empty list to store similarities\n",
    "    similarities = []\n",
    "\n",
    "    # Calculate similarities for each redeemed embedding\n",
    "    for embedding in redeemed_embeddings['ada_embedding']:\n",
    "        similarity = calculate_cosine_similarity(embedding, all_embeddings)\n",
    "        similarities.append(similarity)\n",
    "\n",
    "    # Average the similarities to get a single similarity score for each deal\n",
    "    average_similarities = np.mean(similarities, axis=0)\n",
    "\n",
    "    # Add the similarities to the DataFrame\n",
    "    deals_embeddings_new['similarity'] = average_similarities\n",
    "\n",
    "    # Filter out deals the user has already redeemed\n",
    "    recommended_deals = deals_embeddings_new[~deals_embeddings_new['ContentId'].isin(redeemed_content_ids)]\n",
    "\n",
    "    # Sort by similarity in descending order and take the top 5 recommendations\n",
    "    top_5_recommendations = recommended_deals.sort_values(by='similarity', ascending=False).head(5)\n",
    "\n",
    "    return top_5_recommendations\n",
    "\n",
    "\n"
   ]
  },
  {
   "cell_type": "code",
   "execution_count": 7,
   "metadata": {},
   "outputs": [],
   "source": [
    "user_id = 1064756\n",
    "\n",
    "# Get recommendations for the user\n",
    "top_5_recommendations = recommend_deals_for_user(user_id, user_tranactions, deals_embeddings)"
   ]
  },
  {
   "cell_type": "code",
   "execution_count": 8,
   "metadata": {},
   "outputs": [
    {
     "data": {
      "text/html": [
       "<div>\n",
       "<style scoped>\n",
       "    .dataframe tbody tr th:only-of-type {\n",
       "        vertical-align: middle;\n",
       "    }\n",
       "\n",
       "    .dataframe tbody tr th {\n",
       "        vertical-align: top;\n",
       "    }\n",
       "\n",
       "    .dataframe thead th {\n",
       "        text-align: right;\n",
       "    }\n",
       "</style>\n",
       "<table border=\"1\" class=\"dataframe\">\n",
       "  <thead>\n",
       "    <tr style=\"text-align: right;\">\n",
       "      <th></th>\n",
       "      <th>ContentId</th>\n",
       "      <th>ada_embedding</th>\n",
       "      <th>similarity</th>\n",
       "    </tr>\n",
       "  </thead>\n",
       "  <tbody>\n",
       "    <tr>\n",
       "      <th>102</th>\n",
       "      <td>113917</td>\n",
       "      <td>[-0.010060266591608524, 0.026792626827955246, ...</td>\n",
       "      <td>0.665907</td>\n",
       "    </tr>\n",
       "    <tr>\n",
       "      <th>14</th>\n",
       "      <td>113829</td>\n",
       "      <td>[-0.010485121980309486, -0.011346031911671162,...</td>\n",
       "      <td>0.591322</td>\n",
       "    </tr>\n",
       "    <tr>\n",
       "      <th>140</th>\n",
       "      <td>115095</td>\n",
       "      <td>[-0.005924812518060207, -0.015608739107847214,...</td>\n",
       "      <td>0.579119</td>\n",
       "    </tr>\n",
       "    <tr>\n",
       "      <th>15</th>\n",
       "      <td>113830</td>\n",
       "      <td>[-0.024029560387134552, -0.016128472983837128,...</td>\n",
       "      <td>0.552184</td>\n",
       "    </tr>\n",
       "    <tr>\n",
       "      <th>71</th>\n",
       "      <td>113886</td>\n",
       "      <td>[0.008828267455101013, 0.06800082325935364, -0...</td>\n",
       "      <td>0.544818</td>\n",
       "    </tr>\n",
       "  </tbody>\n",
       "</table>\n",
       "</div>"
      ],
      "text/plain": [
       "     ContentId                                      ada_embedding  similarity\n",
       "102     113917  [-0.010060266591608524, 0.026792626827955246, ...    0.665907\n",
       "14      113829  [-0.010485121980309486, -0.011346031911671162,...    0.591322\n",
       "140     115095  [-0.005924812518060207, -0.015608739107847214,...    0.579119\n",
       "15      113830  [-0.024029560387134552, -0.016128472983837128,...    0.552184\n",
       "71      113886  [0.008828267455101013, 0.06800082325935364, -0...    0.544818"
      ]
     },
     "execution_count": 8,
     "metadata": {},
     "output_type": "execute_result"
    }
   ],
   "source": [
    "top_5_recommendations"
   ]
  },
  {
   "cell_type": "code",
   "execution_count": 10,
   "metadata": {},
   "outputs": [
    {
     "data": {
      "text/html": [
       "<div>\n",
       "<style scoped>\n",
       "    .dataframe tbody tr th:only-of-type {\n",
       "        vertical-align: middle;\n",
       "    }\n",
       "\n",
       "    .dataframe tbody tr th {\n",
       "        vertical-align: top;\n",
       "    }\n",
       "\n",
       "    .dataframe thead th {\n",
       "        text-align: right;\n",
       "    }\n",
       "</style>\n",
       "<table border=\"1\" class=\"dataframe\">\n",
       "  <thead>\n",
       "    <tr style=\"text-align: right;\">\n",
       "      <th></th>\n",
       "      <th>FK_BusinessUserId</th>\n",
       "      <th>PointsRedeemed</th>\n",
       "      <th>FK_ContentId</th>\n",
       "    </tr>\n",
       "  </thead>\n",
       "  <tbody>\n",
       "    <tr>\n",
       "      <th>37103</th>\n",
       "      <td>1064756</td>\n",
       "      <td>100</td>\n",
       "      <td>115094</td>\n",
       "    </tr>\n",
       "  </tbody>\n",
       "</table>\n",
       "</div>"
      ],
      "text/plain": [
       "       FK_BusinessUserId  PointsRedeemed  FK_ContentId\n",
       "37103            1064756             100        115094"
      ]
     },
     "execution_count": 10,
     "metadata": {},
     "output_type": "execute_result"
    }
   ],
   "source": [
    "user_trx = user_tranactions[user_tranactions['FK_BusinessUserId'] == user_id]\n",
    "user_trx"
   ]
  }
 ],
 "metadata": {
  "kernelspec": {
   "display_name": "Python 3",
   "language": "python",
   "name": "python3"
  },
  "language_info": {
   "codemirror_mode": {
    "name": "ipython",
    "version": 3
   },
   "file_extension": ".py",
   "mimetype": "text/x-python",
   "name": "python",
   "nbconvert_exporter": "python",
   "pygments_lexer": "ipython3",
   "version": "3.12.4"
  }
 },
 "nbformat": 4,
 "nbformat_minor": 2
}
