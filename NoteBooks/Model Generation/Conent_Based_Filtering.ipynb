{
 "cells": [
  {
   "cell_type": "code",
   "execution_count": null,
   "metadata": {},
   "outputs": [],
   "source": [
    "import os\n",
    "import sys\n",
    "from pathlib import Path\n",
    "# Setting the working directory to the root of the project\n",
    "project_dir = Path(\"C:/Users/adbou/source/repos/KFHXRelatedAi/\")\n",
    "os.chdir(project_dir)\n",
    "\n",
    "from Configs.GeneralPaths import SOURCEDATA\n",
    "import pandas as pd\n",
    "import numpy as np\n",
    "import ast\n"
   ]
  },
  {
   "cell_type": "code",
   "execution_count": null,
   "metadata": {},
   "outputs": [],
   "source": [
    "#load user transactions data\n",
    "deals_embeddings = pd.read_csv(Path(SOURCEDATA / \"Deals_Embeddings.csv\"))\n",
    "deals_embeddings['ada_embedding'] = deals_embeddings['ada_embedding'].apply(ast.literal_eval)\n",
    "\n"
   ]
  },
  {
   "cell_type": "code",
   "execution_count": null,
   "metadata": {},
   "outputs": [],
   "source": [
    "deals_embeddings.head()"
   ]
  },
  {
   "cell_type": "code",
   "execution_count": null,
   "metadata": {},
   "outputs": [],
   "source": [
    "#loading user transactions\n",
    "user_transactions = pd.read_excel(Path(SOURCEDATA / \"Transaction_User.xlsx\"))\n",
    "user_tranactions = user_transactions.drop(columns=['TrxId'])\n",
    "user_tranactions.head()"
   ]
  },
  {
   "cell_type": "code",
   "execution_count": null,
   "metadata": {},
   "outputs": [],
   "source": [
    "from sklearn.metrics.pairwise import cosine_similarity\n",
    "\n",
    "def calculate_cosine_similarity(embedding, embeddings):\n",
    "    similarities = cosine_similarity([embedding], embeddings)\n",
    "    return similarities[0]\n"
   ]
  },
  {
   "cell_type": "code",
   "execution_count": null,
   "metadata": {},
   "outputs": [],
   "source": [
    "def recommend_deals_for_user(user_id, user_deals_df, deals_embeddings_new):\n",
    "    # Get the user's redeemed deals' content IDs\n",
    "    redeemed_content_ids = user_deals_df[user_deals_df['FK_BusinessUserId'] == user_id]['FK_ContentId'].unique()\n",
    "    \n",
    "    # Retrieve the embeddings for the redeemed deals\n",
    "    redeemed_embeddings = deals_embeddings_new[deals_embeddings_new['ContentId'].isin(redeemed_content_ids)]\n",
    "    \n",
    "    if redeemed_embeddings.empty:\n",
    "        print(\"No redeemed deals found for this user.\")\n",
    "        return pd.DataFrame()\n",
    "    \n",
    "    # Get all embeddings\n",
    "    all_embeddings = deals_embeddings_new['ada_embedding'].tolist()\n",
    "\n",
    "    # Initialize an empty list to store similarities\n",
    "    similarities = []\n",
    "\n",
    "    # Calculate similarities for each redeemed embedding\n",
    "    for embedding in redeemed_embeddings['ada_embedding']:\n",
    "        similarity = calculate_cosine_similarity(embedding, all_embeddings)\n",
    "        similarities.append(similarity)\n",
    "\n",
    "    # Average the similarities to get a single similarity score for each deal\n",
    "    average_similarities = np.mean(similarities, axis=0)\n",
    "\n",
    "    # Add the similarities to the DataFrame\n",
    "    deals_embeddings_new['similarity'] = average_similarities\n",
    "\n",
    "    # Filter out deals the user has already redeemed\n",
    "    recommended_deals = deals_embeddings_new[~deals_embeddings_new['ContentId'].isin(redeemed_content_ids)]\n",
    "\n",
    "    # Sort by similarity in descending order and take the top 5 recommendations\n",
    "    top_5_recommendations = recommended_deals.sort_values(by='similarity', ascending=False).head(5)\n",
    "\n",
    "    return top_5_recommendations\n",
    "\n",
    "\n"
   ]
  },
  {
   "cell_type": "code",
   "execution_count": null,
   "metadata": {},
   "outputs": [],
   "source": [
    "user_id = 1002107\n",
    "\n",
    "# Get recommendations for the user\n",
    "top_5_recommendations = recommend_deals_for_user(user_id, user_tranactions, deals_embeddings)"
   ]
  },
  {
   "cell_type": "code",
   "execution_count": null,
   "metadata": {},
   "outputs": [],
   "source": [
    "top_5_recommendations"
   ]
  },
  {
   "cell_type": "code",
   "execution_count": null,
   "metadata": {},
   "outputs": [],
   "source": [
    "user_trx = user_tranactions[user_tranactions['FK_BusinessUserId'] == 1070553]\n",
    "user_trx"
   ]
  }
 ],
 "metadata": {
  "kernelspec": {
   "display_name": "Python 3",
   "language": "python",
   "name": "python3"
  },
  "language_info": {
   "codemirror_mode": {
    "name": "ipython",
    "version": 3
   },
   "file_extension": ".py",
   "mimetype": "text/x-python",
   "name": "python",
   "nbconvert_exporter": "python",
   "pygments_lexer": "ipython3",
   "version": "3.12.4"
  }
 },
 "nbformat": 4,
 "nbformat_minor": 2
}
